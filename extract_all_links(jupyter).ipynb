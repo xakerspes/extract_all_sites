{
 "cells": [
  {
   "cell_type": "code",
   "execution_count": 71,
   "metadata": {},
   "outputs": [
    {
     "name": "stdout",
     "output_type": "stream",
     "text": [
      "https://www.uz/ru/stat/visitors/ratings?page=1&per-page=100\n",
      "https://www.uz/ru/stat/visitors/ratings?page=2&per-page=100\n",
      "https://www.uz/ru/stat/visitors/ratings?page=3&per-page=100\n",
      "https://www.uz/ru/stat/visitors/ratings?page=4&per-page=100\n",
      "https://www.uz/ru/stat/visitors/ratings?page=5&per-page=100\n",
      "https://www.uz/ru/stat/visitors/ratings?page=6&per-page=100\n",
      "https://www.uz/ru/stat/visitors/ratings?page=7&per-page=100\n",
      "https://www.uz/ru/stat/visitors/ratings?page=8&per-page=100\n",
      "https://www.uz/ru/stat/visitors/ratings?page=9&per-page=100\n",
      "https://www.uz/ru/stat/visitors/ratings?page=10&per-page=100\n",
      "https://www.uz/ru/stat/visitors/ratings?page=11&per-page=100\n",
      "https://www.uz/ru/stat/visitors/ratings?page=12&per-page=100\n",
      "https://www.uz/ru/stat/visitors/ratings?page=13&per-page=100\n",
      "https://www.uz/ru/stat/visitors/ratings?page=14&per-page=100\n",
      "https://www.uz/ru/stat/visitors/ratings?page=15&per-page=100\n",
      "https://www.uz/ru/stat/visitors/ratings?page=16&per-page=100\n",
      "https://www.uz/ru/stat/visitors/ratings?page=17&per-page=100\n"
     ]
    }
   ],
   "source": [
    "from bs4 import BeautifulSoup\n",
    "import urllib\n",
    "import re\n",
    "\n",
    "link_of = []\n",
    "links = []\n",
    "for i in range(1,18):\n",
    "    url = (\"\".join(map(str, [\"https://www.uz/ru/stat/visitors/ratings?page=\",i, \"&per-page=100\"])))\n",
    "    print(url)\n",
    "    html = urllib.request.urlopen(url)\n",
    "    html_page = html.read()\n",
    "    soup = BeautifulSoup(html_page)\n",
    "    for link in soup.findAll('a', attrs={'href': re.compile(\"^http://\")}):\n",
    "        links.append(link.get('href'))"
   ]
  },
  {
   "cell_type": "code",
   "execution_count": 73,
   "metadata": {},
   "outputs": [
    {
     "data": {
      "text/plain": [
       "1835"
      ]
     },
     "execution_count": 73,
     "metadata": {},
     "output_type": "execute_result"
    }
   ],
   "source": [
    "len(links)"
   ]
  },
  {
   "cell_type": "code",
   "execution_count": 85,
   "metadata": {},
   "outputs": [
    {
     "data": {
      "text/plain": [
       "'http://jizzaxsh-maktab-14.zn.uz'"
      ]
     },
     "execution_count": 85,
     "metadata": {},
     "output_type": "execute_result"
    }
   ],
   "source": [
    "links[1800]"
   ]
  },
  {
   "cell_type": "code",
   "execution_count": 88,
   "metadata": {},
   "outputs": [],
   "source": [
    "import pandas as pd\n",
    "df1 = pd.DataFrame(links)\n",
    "df1.to_excel(\"output3.xlsx\")"
   ]
  }
 ],
 "metadata": {
  "kernelspec": {
   "display_name": "Python 3",
   "language": "python",
   "name": "python3"
  },
  "language_info": {
   "codemirror_mode": {
    "name": "ipython",
    "version": 3
   },
   "file_extension": ".py",
   "mimetype": "text/x-python",
   "name": "python",
   "nbconvert_exporter": "python",
   "pygments_lexer": "ipython3",
   "version": "3.7.3"
  }
 },
 "nbformat": 4,
 "nbformat_minor": 2
}
